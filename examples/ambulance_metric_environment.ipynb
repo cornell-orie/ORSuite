{
 "cells": [
  {
   "cell_type": "markdown",
   "id": "divided-unknown",
   "metadata": {},
   "source": [
    "# Ambulance Routing on Metric Space\n",
    "\n",
    "One potential application of reinforcement learning involves positioning a server or servers (in this case an ambulance) in an optimal way geographically to respond to incoming calls while minimizing the distance traveled by the servers. This is closely related to the [k-server problem](https://en.wikipedia.org/wiki/K-server_problem), where there are $k$ servers stationed in a space that must respond to requests arriving in that space in such a way as to minimize the total distance traveled. \n",
    "\n",
    "The ambulance routing problem addresses the problem by modeling an environment where there are ambulances stationed at locations, and calls come in that one of the ambulances must be sent to respond to. The goal of the agent is to minimize both the distance traveled by the ambulances between calls and the distance traveled to respond to a call by optimally choosing the locations to station the ambulances. The ambulance environment has been implemented in two different ways; as a 1-dimensional number line $[0,1]$ along which ambulances will be stationed and calls will arrive, and a graph with nodes where ambulances can be stationed and calls can arrive, and edges between the nodes that ambulances travel along."
   ]
  },
  {
   "cell_type": "markdown",
   "id": "experienced-income",
   "metadata": {},
   "source": [
    "In this notebook, we walk through the Ambulance Routing problem with a 1-dimensional reinforcement learning environment in the space $X = [0, 1]$. Each ambulance in the problem can be located anywhere in $X$, so the state space is $S = X^k$, where $k$ is the number of ambulances. For this example there will be only one ambulance, so $k = 1$.\n",
    "\n",
    "The default distribution for call arrivals is $Beta(5, 2)$ over $[0,1]$, however any probability distribution defined over the interval $[0,1]$ is valid. The probability distribution can also change with each timestep.\n",
    "\n",
    "For example, in a problem with two ambulances, imagine the ambulances are initially located at $0.4$ and $0.6$, and the distance function being used is the $\\ell_1$ norm. The agent could choose to move the ambulances to $0.342$ and $0.887$. If a call arrived at $0.115$, ambulance 1, which was at $0.342$, would respond to that call, and the state at the end of the iteration would be ambulance 1 at $0.115$ and ambulance 2 at $0.887$. The agent could then choose new locations to move the ambulances to, and the cycle would repeat. \n",
    "\n",
    "Below is an example of this probelm on a numberline with ambulances at points 0.4 and 0.6. \n",
    "\n",
    "![Metric_Picture](diagrams/metric_pic.png)\n"
   ]
  },
  {
   "cell_type": "markdown",
   "id": "revolutionary-universe",
   "metadata": {},
   "source": [
    "### Package Installation\n"
   ]
  },
  {
   "cell_type": "code",
   "execution_count": 4,
   "id": "54262089",
   "metadata": {},
   "outputs": [],
   "source": [
    "import or_suite\n",
    "import numpy as np\n",
    "\n",
    "import copy\n",
    "\n",
    "import os\n",
    "from stable_baselines3.common.monitor import Monitor\n",
    "from stable_baselines3 import PPO\n",
    "from stable_baselines3.ppo import MlpPolicy\n",
    "from stable_baselines3.common.env_util import make_vec_env\n",
    "from stable_baselines3.common.evaluation import evaluate_policy\n",
    "import pandas as pd\n",
    "\n",
    "\n",
    "import gym"
   ]
  },
  {
   "cell_type": "markdown",
   "id": "negative-burst",
   "metadata": {},
   "source": [
    "\n",
    "Here we use the ambulance metric environment as outlined in `or_suite/envs/ambulance/ambulance_metric.py`.  The package has default specifications for all of the environments in the file `or_suite/envs/env_configs.py`, and so we use one the default for the ambulance problem in a metric space.\n",
    "\n",
    "In addition, we need to specify the number of episodes for learning, and the number of iterations (in order to plot average results with confidence intervals)."
   ]
  },
  {
   "cell_type": "markdown",
   "id": "313d5366",
   "metadata": {},
   "source": [
    "### Test One: Beta Arrivals\n",
    "\n",
    "In this first test we set the arrival distribution to be Beta(5,2)"
   ]
  },
  {
   "cell_type": "markdown",
   "id": "e1a8c51d",
   "metadata": {},
   "source": [
    "### Experimental Parameters\n",
    "\n",
    "\n",
    "The ambulance routing problem has several experiment parameters\n",
    "* The parameter `epLen`, an int, number of time steps to run the experiment for \n",
    "* `arrival_dist`,a lambda, is the arrival distribution for calls over the space [0,1]. This takes an integer (step) and returns a float between 0 and 1. \n",
    "* `nEps` is an int representing the number of episodes. The default is set to 2. \n",
    "* `numIters`, an int, is the number of iterations. Here it is set to 50. \n",
    "* `seed` allows random numbers to be generated. \n",
    "* `dirPath`, a string, is the location where the data files are stored.\n",
    "* `deBug`, a bool, prints information to the command line when set true. \n",
    "* `save_trajectory`, a bool, saves the trajectory information of the ambulance when set to true. \n",
    "* `render` renders the algorithm when set to true.\n",
    "* `pickle` is a bool that saves the information to a pickle file when set to true.\n",
    "* `alpha`, a float controlling the proportional difference between the cost to move ambulances in between calls and the cost to move the ambulance to respond to a call. If `alpha` is 0, there is no cost to move between calls. If `alpha` is one, there is no cost to respond to calls.\n",
    "* `num_ambulance`, an int which represents the number of ambulances in the system. \n",
    "* `starting_state` is a float list containing the starting locations for each ambulance \n",
    "* `state`, an int list, representing the current state of the environment \n"
   ]
  },
  {
   "cell_type": "code",
   "execution_count": 5,
   "id": "exclusive-roots",
   "metadata": {},
   "outputs": [],
   "source": [
    "\n",
    "# Getting out configuration parameter for the environment\n",
    "CONFIG =  or_suite.envs.env_configs.ambulance_metric_default_config\n",
    "\n",
    "\n",
    "# Specifying training iteration, epLen, number of episodes, and number of iterations\n",
    "epLen = CONFIG['epLen']\n",
    "nEps = 2\n",
    "numIters = 50\n",
    "\n",
    "# Parameters needed for the heuristic algorithms\n",
    "epsilon = (nEps * epLen)**(-1 / 4)\n",
    "action_net = np.arange(start=0, stop=1, step=epsilon)\n",
    "state_net = np.arange(start=0, stop=1, step=epsilon)\n",
    "\n",
    "scaling_list = [0.1, 0.3, 1, 5]\n",
    "\n",
    "\n",
    "# Specifying the arrival distribution\n",
    "def beta(step):\n",
    "    return np.random.beta(5,2)\n",
    "\n",
    "\n",
    "# Configuration parameters for running the experiment\n",
    "DEFAULT_SETTINGS = {'seed': 1, \n",
    "                    'recFreq': 1, \n",
    "                    'dirPath': '../data/ambulance/', \n",
    "                    'deBug': False, \n",
    "                    'nEps': nEps, \n",
    "                    'numIters': numIters, \n",
    "                    'saveTrajectory': True, # save trajectory for calculating additional metrics\n",
    "                    'epLen' : 5,\n",
    "                    'render': False,\n",
    "                    'pickle': False # indicator for pickling final information\n",
    "                    }\n",
    "\n",
    "\n",
    "alpha = CONFIG['alpha']\n",
    "arrival_dist = beta\n",
    "num_ambulance = CONFIG['num_ambulance']\n",
    "\n",
    "ambulance_env = gym.make('Ambulance-v0', config=CONFIG)\n",
    "mon_env = Monitor(ambulance_env)\n"
   ]
  },
  {
   "cell_type": "markdown",
   "id": "single-shooting",
   "metadata": {},
   "source": [
    "### Specifying Agent\n",
    "We specify 8 different agents to compare the effectiveness of each.\n",
    "\n",
    "* `SB PPO` is Proximal Policy Optimization. When policy is updated, there is a parameter that “clips” each policy update so that action update does not go too far\n",
    "* `Random` implements the randomized RL algorithm, which selects an action uniformly at random from the action space. In particular, the algorithm stores an internal copy of the environment’s action space and samples uniformly at random from it.\n",
    "* `AdaQL` is an Adaptive Discretization Model-Free Agent, implemented for enviroments with continuous states and actions using the metric induced by the l_inf norm.\n",
    "* `AdaMB` is an Adaptive Discretizaiton Model-Based Agent, implemented for enviroments with continuous states and actions using the metric induced by the l_inf norm.\n",
    "* `Unif QL` is an eNet Model-Based Agent, implemented for enviroments with continuous states and actions using the metric induces by the l_inf norm.\n",
    "* `Unif MB` is a eNet Model-Free Agent, implemented for enviroments with continuous states and actions using the metric induces by the l_inf norm.\n",
    "* `Stable` is an agent that only moves ambulances when responding to an incoming call and not in between calls. This means the policy $\\pi$ chosen by the agent for any given state $X$ will be $\\pi_h(X) = X$\n",
    "* `Median` is an agent that takes a list of all past call arrivals sorted by arrival location, and partitions it into $k$ quantiles where $k$ is the number of ambulances. The algorithm then selects the middle data point in each quantile as the locations to station the ambulances. \n"
   ]
  },
  {
   "cell_type": "code",
   "execution_count": 6,
   "id": "comprehensive-amplifier",
   "metadata": {},
   "outputs": [
    {
     "name": "stderr",
     "output_type": "stream",
     "text": [
      "/home/logan/anaconda3/envs/ORSuite/lib/python3.8/site-packages/stable_baselines3/ppo/ppo.py:137: UserWarning: You have specified a mini-batch size of 64, but because the `RolloutBuffer` is of size `n_steps * n_envs = 5`, after every 0 untruncated mini-batches, there will be a truncated mini-batch of size 5\n",
      "We recommend using a `batch_size` that is a factor of `n_steps * n_envs`.\n",
      "Info: (n_steps=5 and n_envs=1)\n",
      "  warnings.warn(\n"
     ]
    }
   ],
   "source": [
    "agents = { 'SB PPO': PPO(MlpPolicy, mon_env, gamma=1, verbose=0, n_steps=epLen),\n",
    "'Random': or_suite.agents.rl.random.randomAgent(),\n",
    "'Stable': or_suite.agents.ambulance.stable.stableAgent(CONFIG['epLen']),\n",
    "'Median': or_suite.agents.ambulance.median.medianAgent(CONFIG['epLen']),\n",
    "'AdaQL': or_suite.agents.rl.ada_ql.AdaptiveDiscretizationQL(epLen, scaling_list[0], True, num_ambulance*2),\n",
    "'AdaMB': or_suite.agents.rl.ada_mb.AdaptiveDiscretizationMB(epLen, scaling_list[0], 0, 2, True, True, num_ambulance, num_ambulance),\n",
    "'Unif QL': or_suite.agents.rl.enet_ql.eNetQL(action_net, state_net, epLen, scaling_list[0], (num_ambulance,num_ambulance)),\n",
    "'Unif MB': or_suite.agents.rl.enet_mb.eNetMB(action_net, state_net, epLen, scaling_list[0], (num_ambulance,num_ambulance), 0, False),\n",
    "}"
   ]
  },
  {
   "cell_type": "markdown",
   "id": "optional-dublin",
   "metadata": {},
   "source": [
    "### Running Algorithm\n",
    "Run the different heuristics in the environment"
   ]
  },
  {
   "cell_type": "code",
   "execution_count": 7,
   "id": "honest-equipment",
   "metadata": {},
   "outputs": [
    {
     "name": "stdout",
     "output_type": "stream",
     "text": [
      "SB PPO\n",
      "New Experiment Run\n",
      "Iteration: 0\n",
      "Iteration: 1\n",
      "Iteration: 2\n",
      "Iteration: 3\n",
      "Iteration: 4\n",
      "Iteration: 5\n",
      "Iteration: 6\n",
      "Iteration: 7\n",
      "Iteration: 8\n",
      "Iteration: 9\n",
      "Iteration: 10\n",
      "Iteration: 11\n",
      "Iteration: 12\n",
      "Iteration: 13\n",
      "Iteration: 14\n",
      "Iteration: 15\n",
      "Iteration: 16\n",
      "Iteration: 17\n",
      "Iteration: 18\n",
      "Iteration: 19\n",
      "Iteration: 20\n",
      "Iteration: 21\n",
      "Iteration: 22\n",
      "Iteration: 23\n",
      "Iteration: 24\n",
      "Iteration: 25\n",
      "Iteration: 26\n",
      "Iteration: 27\n",
      "Iteration: 28\n",
      "Iteration: 29\n",
      "Iteration: 30\n",
      "Iteration: 31\n",
      "Iteration: 32\n",
      "Iteration: 33\n",
      "Iteration: 34\n",
      "Iteration: 35\n",
      "Iteration: 36\n",
      "Iteration: 37\n",
      "Iteration: 38\n",
      "Iteration: 39\n",
      "Iteration: 40\n",
      "Iteration: 41\n",
      "Iteration: 42\n",
      "Iteration: 43\n",
      "Iteration: 44\n",
      "Iteration: 45\n",
      "Iteration: 46\n",
      "Iteration: 47\n",
      "Iteration: 48\n",
      "Iteration: 49\n",
      "[-3.652300164103508, -2.261001594364643, -2.707670107483864, -2.7639448046684265, -3.2416727244853973, -1.848425716161728, -2.4823239743709564, -2.6446161717176437, -2.424504980444908, -1.8717375993728638, -2.365648254752159, -2.3793503530323505, -2.1346848607063293, -1.6230830699205399, -1.3284246623516083, -2.922037772834301, -3.121385619044304, -2.1664920300245285, -1.6281995922327042, -2.8237030804157257, -1.9439408779144287, -1.7526625916361809, -1.9651445299386978, -2.0390784293413162, -2.6291192285716534, -1.7725165039300919, -1.7799979448318481, -1.801461398601532, -2.164008229970932, -1.2596483379602432, -2.7793596535921097, -1.6383839324116707, -1.8613585829734802, -2.068577066063881, -1.878522664308548, -2.632059082388878, -1.8433788418769836, -2.353692650794983, -2.3598189651966095, -1.775160163640976, -1.6498680859804153, -2.1805952936410904, -1.8847015053033829, -1.7277909219264984, -2.1686218678951263, -1.3092699032276869, -2.540941782295704, -2.451515093445778, -1.7115700468420982, -1.5045316070318222, -1.9417692720890045, -1.9359856098890305, -3.3969788402318954, -2.2393451556563377, -1.969408079981804, -1.7821517661213875, -1.4880950599908829, -2.1369545869529247, -2.3269966691732407, -1.750606656074524, -1.4967015981674194, -1.9484038203954697, -1.9136412590742111, -1.5685875117778778, -1.6708977222442627, -1.9715886116027832, -1.8516533002257347, -1.3321906328201294, -2.9561892300844193, -2.1425198018550873, -1.706325188279152, -1.920571118593216, -1.2871280014514923, -1.3721551895141602, -2.187389500439167, -1.5422337427735329, -2.287957507185638, -1.4588957577943802, -1.4616329856216908, -1.5934836864471436, -1.834315538406372, -2.0098650604486465, -1.2581541389226913, -1.5735704153776169, -1.7173536568880081, -1.8268583863973618, -1.8931236118078232, -1.728003591299057, -1.6837181150913239, -1.1368932873010635, -1.5126855671405792, -1.2856083810329437, -2.0718177780508995, -1.75787952542305, -2.0694232136011124, -1.248883992433548, -1.566340133547783, -1.4820698499679565, -1.593828245997429, -1.5650669038295746]\n",
      "100\n",
      "Writing to file ../data/ambulance_metric_SB PPO_1_0.25_beta/data.csv\n",
      "Random\n",
      "Writing to file data.csv\n",
      "Stable\n",
      "Writing to file data.csv\n",
      "Median\n",
      "Writing to file data.csv\n",
      "AdaQL\n",
      "Chosen parameters: 5\n",
      "Writing to file data.csv\n",
      "5\n",
      "AdaMB\n",
      "Chosen parameters: 5\n",
      "Writing to file data.csv\n",
      "5\n",
      "Unif QL\n",
      "Chosen parameters: 5\n",
      "Writing to file data.csv\n",
      "5\n",
      "Unif MB\n",
      "Chosen parameters: 5\n",
      "Writing to file data.csv\n",
      "5\n",
      "  Algorithm    Reward      Time    Space       MRT       RTV\n",
      "0    Random -1.662176  6.711488 -5034.12 -0.315692 -0.056005\n",
      "1    Stable -1.032668  7.333926 -4140.80 -0.285655 -0.064205\n",
      "2    Median -0.875958  6.306701 -5093.96 -0.212675 -0.043899\n",
      "3     AdaQL -1.113290  6.388011 -4905.76 -0.265052 -0.041170\n",
      "4     AdaMB -1.113290  6.430906 -4596.32 -0.265052 -0.041170\n",
      "5   Unif QL -2.137630  6.357841 -4620.32 -0.430012 -0.089006\n",
      "6   Unif MB -2.299622  6.085195 -4620.32 -0.454634 -0.091324\n"
     ]
    }
   ],
   "source": [
    "path_list_line = []\n",
    "algo_list_line = []\n",
    "path_list_radar = []\n",
    "algo_list_radar= []\n",
    "for agent in agents:\n",
    "    print(agent)\n",
    "    DEFAULT_SETTINGS['dirPath'] = '../data/ambulance_metric_'+str(agent)+'_'+str(num_ambulance)+'_'+str(alpha)+'_'+str(arrival_dist.__name__)+'/'\n",
    "    if agent == 'SB PPO':\n",
    "        or_suite.utils.run_single_sb_algo(mon_env, agents[agent], DEFAULT_SETTINGS)\n",
    "    elif agent == 'AdaQL' or agent == 'Unif QL' or agent == 'AdaMB' or agent == 'Unif MB':\n",
    "        or_suite.utils.run_single_algo_tune(ambulance_env, agents[agent], scaling_list, DEFAULT_SETTINGS)\n",
    "    else:\n",
    "        or_suite.utils.run_single_algo(ambulance_env, agents[agent], DEFAULT_SETTINGS)\n",
    "\n",
    "    path_list_line.append('../data/ambulance_metric_'+str(agent)+'_'+str(num_ambulance)+'_'+str(alpha)+'_'+str(arrival_dist.__name__))\n",
    "    algo_list_line.append(str(agent))\n",
    "    if agent != 'SB PPO':\n",
    "        path_list_radar.append('../data/ambulance_metric_'+str(agent)+'_'+str(num_ambulance)+'_'+str(alpha)+'_'+str(arrival_dist.__name__))\n",
    "        algo_list_radar.append(str(agent))\n",
    "fig_path = '../figures/'\n",
    "fig_name = 'ambulance_metric'+'_'+str(num_ambulance)+'_'+str(alpha)+'_'+str(arrival_dist.__name__)+'_line_plot'+'.pdf'\n",
    "or_suite.plots.plot_line_plots(path_list_line, algo_list_line, fig_path, fig_name, int(nEps / 40)+1)\n",
    "\n",
    "additional_metric = {'MRT': lambda traj : or_suite.utils.mean_response_time(traj, lambda x, y : np.abs(x-y)), 'RTV': lambda traj : or_suite.utils.response_time_variance(traj, lambda x, y : np.abs(x-y))}\n",
    "fig_name = 'ambulance_metric'+'_'+str(num_ambulance)+'_'+str(alpha)+'_'+str(arrival_dist.__name__)+'_radar_plot'+'.pdf'\n",
    "or_suite.plots.plot_radar_plots(path_list_radar, algo_list_radar,\n",
    "fig_path, fig_name,\n",
    "additional_metric\n",
    ")\n"
   ]
  },
  {
   "cell_type": "code",
   "execution_count": 8,
   "id": "9c60c161",
   "metadata": {},
   "outputs": [
    {
     "data": {
      "text/html": [
       "\n",
       "        <iframe\n",
       "            width=\"600\"\n",
       "            height=\"280\"\n",
       "            src=\"../figures/ambulance_metric_1_0.25_beta_line_plot.pdf\"\n",
       "            frameborder=\"0\"\n",
       "            allowfullscreen\n",
       "            \n",
       "        ></iframe>\n",
       "        "
      ],
      "text/plain": [
       "<IPython.lib.display.IFrame at 0x7ff98b026a90>"
      ]
     },
     "execution_count": 8,
     "metadata": {},
     "output_type": "execute_result"
    }
   ],
   "source": [
    "from IPython.display import IFrame\n",
    "figureLinePlot = 'ambulance_metric'+'_'+str(num_ambulance)+'_'+str(alpha)+'_'+str(arrival_dist.__name__)+'_line_plot'+'.pdf'\n",
    "IFrame(\"../figures/\" + figureLinePlot, width=600, height=280)"
   ]
  },
  {
   "cell_type": "code",
   "execution_count": 9,
   "id": "9c67803d",
   "metadata": {},
   "outputs": [
    {
     "data": {
      "text/html": [
       "\n",
       "        <iframe\n",
       "            width=\"600\"\n",
       "            height=\"450\"\n",
       "            src=\"../figures/ambulance_metric_1_0.25_beta_radar_plot.pdf\"\n",
       "            frameborder=\"0\"\n",
       "            allowfullscreen\n",
       "            \n",
       "        ></iframe>\n",
       "        "
      ],
      "text/plain": [
       "<IPython.lib.display.IFrame at 0x7ff98afd1fd0>"
      ]
     },
     "execution_count": 9,
     "metadata": {},
     "output_type": "execute_result"
    }
   ],
   "source": [
    "figureRadarPlot = 'ambulance_metric'+'_'+str(num_ambulance)+'_'+str(alpha)+'_'+str(arrival_dist.__name__)+'_radar_plot'+'.pdf'\n",
    "IFrame(\"../figures/\" + figureRadarPlot, width=600, height=450)"
   ]
  },
  {
   "cell_type": "markdown",
   "id": "1d11dfcb",
   "metadata": {},
   "source": [
    "Here we see with a quick set-up that the best-performing algorithm in this limited data regime is the Median algorithm, essentially putting the ambulances at the estimated median from the observed data thus far."
   ]
  },
  {
   "cell_type": "markdown",
   "id": "7829c708",
   "metadata": {},
   "source": [
    "### Test 2: Uniform Arrivals"
   ]
  },
  {
   "cell_type": "code",
   "execution_count": 10,
   "id": "c91e22b9",
   "metadata": {},
   "outputs": [
    {
     "name": "stderr",
     "output_type": "stream",
     "text": [
      "/home/logan/anaconda3/envs/ORSuite/lib/python3.8/site-packages/stable_baselines3/ppo/ppo.py:137: UserWarning: You have specified a mini-batch size of 64, but because the `RolloutBuffer` is of size `n_steps * n_envs = 5`, after every 0 untruncated mini-batches, there will be a truncated mini-batch of size 5\n",
      "We recommend using a `batch_size` that is a factor of `n_steps * n_envs`.\n",
      "Info: (n_steps=5 and n_envs=1)\n",
      "  warnings.warn(\n"
     ]
    },
    {
     "name": "stdout",
     "output_type": "stream",
     "text": [
      "SB PPO\n",
      "New Experiment Run\n",
      "Iteration: 0\n",
      "Iteration: 1\n",
      "[-4.344719633460045, -2.870622381567955, -2.6023070365190506, -2.9813848733901978, -2.9028899371623993, -2.1634188890457153, -2.939925938844681, -3.3440064936876297, -3.0391995459795, -1.9199162125587463, -2.2935566157102585, -2.4194993376731873, -1.6002398282289505, -2.613009676337242, -2.4181746169924736, -2.7980650812387466, -2.6867692321538925, -3.432223044335842, -2.579864665865898, -2.5729096233844757, -2.8587506711483, -2.087067596614361, -2.5539325028657913, -2.185561165213585, -1.940350815653801, -1.818831667304039, -1.8982122913002968, -2.409411020576954, -2.269835978746414, -1.6865680366754532, -1.9550117403268814, -2.552816927433014, -1.6950852870941162, -1.529697634279728, -1.8569003641605377, -1.5219479128718376, -1.4567421972751617, -1.5624639615416527, -2.234395384788513, -1.7644118666648865, -2.26307325810194, -1.6466221064329147, -1.6411404721438885, -1.9901745021343231, -1.5045891404151917, -2.3841713964939117, -1.8185836970806122, -1.487447813153267, -2.2105564512312412, -1.5517716258764267, -1.8532635569572449, -1.3820478171110153, -1.8723387569189072, -1.39779382199049, -1.707601360976696, -1.2326149865984917, -2.0536081939935684, -1.203028291463852, -1.615204557776451, -1.8207276910543442, -1.3070319294929504, -1.5801271796226501, -1.5866349786520004, -1.5139874815940857, -1.8779826760292053, -2.1579834520816803, -1.8040036410093307, -1.2376914024353027, -1.6095394492149353, -1.8793812096118927, -1.6496767774224281, -1.340780794620514, -1.1859374046325684, -1.9307971000671387, -1.6126607060432434, -1.6841440051794052, -2.0951453745365143, -1.27324478328228, -1.637494757771492, -1.5178731381893158, -1.7445493638515472, -1.6406559199094772, -1.2847830802202225, -1.6434083729982376, -2.0637058168649673, -1.4492872804403305, -1.3928218632936478, -1.3587273359298706, -1.400414764881134, -1.0484306067228317, -1.5126855671405792, -1.3854858577251434, -1.9864702820777893, -1.6994733214378357, -1.5142474621534348, -1.2134717106819153, -1.968750610947609, -1.4820698499679565, -1.3200138062238693, -1.0824593603610992, -1.6333751827478409, -0.6052556782960892, -1.3851447105407715, -1.9985704272985458, -1.8288366198539734, -2.01157508790493, -1.2090833932161331, -1.610990822315216, -1.1695498302578926, -1.2340598404407501, -1.21589295566082, -1.7396026849746704, -1.9985330998897552, -1.1249465197324753, -1.7453487068414688, -1.3823268711566925, -1.8073965907096863, -1.3160057365894318, -1.9452930688858032, -1.5953661799430847, -1.7762470990419388, -1.2065080106258392, -1.2020577937364578, -1.543869435787201, -1.5935643315315247, -1.3217045441269875, -2.172373875975609, -1.756421834230423, -1.4469187557697296, -1.668802171945572, -1.827879935503006, -2.0383170396089554, -1.4748810529708862, -1.7256857007741928, -1.4704853743314743, -1.5698788613080978, -1.442121759057045, -1.6665317863225937, -1.8510753214359283, -0.9144640564918518, -1.161635935306549, -1.690525084733963, -1.630452238023281, -0.9834678322076797, -1.679479330778122, -1.6819369941949844, -1.3425015807151794, -1.9415405243635178, -1.4735146015882492, -1.1769694685935974, -1.9476004838943481, -1.5109245032072067, -1.8461952805519104, -1.3918522894382477, -1.419021487236023, -2.290725499391556, -1.0603427737951279, -1.8925897926092148, -1.6251492351293564, -1.5501509010791779, -1.7064826041460037, -1.259435161948204, -1.9287909865379333, -1.1832525730133057, -2.044695809483528, -0.9820508360862732, -1.55044624209404, -1.7081263363361359, -1.885889083147049, -1.4990323781967163, -1.9585251808166504, -2.7834383249282837, -1.9863729923963547, -1.7844826728105545, -1.5547582656145096, -1.3666182458400726, -1.178529903292656, -1.4261885583400726, -1.860114112496376, -1.2335094660520554, -1.3380605727434158, -1.4363393187522888, -1.460655614733696, -1.0192873626947403, -1.7917153984308243, -1.888645425438881, -2.0844801664352417, -2.201898381114006, -1.7534850090742111, -0.7077275067567825, -1.6466642022132874, -1.319743350148201, -1.8260852247476578, -1.386191412806511, -1.4046460837125778, -1.081349641084671, -1.5359250009059906, -2.1024944335222244, -1.1306265890598297, -2.0470912009477615]\n",
      "200\n",
      "Writing to file ../data/ambulance_metric_SB PPO_1_0.25_uniform/data.csv\n",
      "Random\n",
      "Writing to file data.csv\n",
      "Stable\n",
      "Writing to file data.csv\n",
      "Median\n",
      "Writing to file data.csv\n",
      "AdaQL\n",
      "Chosen parameters: 0.1\n",
      "Writing to file data.csv\n",
      "0.1\n",
      "AdaMB\n",
      "Chosen parameters: 0.1\n",
      "Writing to file data.csv\n",
      "0.1\n",
      "Unif QL\n",
      "Chosen parameters: 1\n",
      "Writing to file data.csv\n",
      "1\n",
      "Unif MB\n",
      "Chosen parameters: 0.1\n",
      "Writing to file data.csv\n",
      "0.1\n",
      "  Algorithm    Reward      Time   Space       MRT       RTV\n",
      "0    Random -1.224765  6.432930 -4676.0 -0.334383 -0.054031\n",
      "1    Stable -1.001835  7.198365 -3904.0 -0.291050 -0.065029\n",
      "2    Median -0.658575  6.084515 -4668.0 -0.135620 -0.011065\n",
      "3     AdaQL -0.837780  5.513635 -5552.0 -0.222062 -0.031312\n",
      "4     AdaMB -1.027855  5.776305 -4632.0 -0.208191 -0.025374\n",
      "5   Unif QL -1.295775  5.881750 -4504.0 -0.283919 -0.051300\n",
      "6   Unif MB -0.514845  5.402210 -4504.0 -0.229288 -0.037576\n"
     ]
    }
   ],
   "source": [
    "\n",
    "# Getting out configuration parameter for the environment\n",
    "CONFIG =  or_suite.envs.env_configs.ambulance_metric_default_config\n",
    "\n",
    "\n",
    "# Specifying training iteration, epLen, number of episodes, and number of iterations\n",
    "epLen = CONFIG['epLen']\n",
    "nEps = 100\n",
    "numIters = 2\n",
    "\n",
    "# Parameters needed for the heuristic algorithms\n",
    "epsilon = (nEps * epLen)**(-1 / 4)\n",
    "action_net = np.arange(start=0, stop=1, step=epsilon)\n",
    "state_net = np.arange(start=0, stop=1, step=epsilon)\n",
    "\n",
    "scaling_list = [0.1, 0.3, 1, 5]\n",
    "\n",
    "\n",
    "# Specifying the arrival distribution\n",
    "def uniform(step):\n",
    "    return np.random.uniform(0,1)\n",
    "\n",
    "\n",
    "# Configuration parameters for running the experiment\n",
    "DEFAULT_SETTINGS = {'seed': 1, \n",
    "                    'recFreq': 1, \n",
    "                    'dirPath': '../data/ambulance/', \n",
    "                    'deBug': False, \n",
    "                    'nEps': nEps, \n",
    "                    'numIters': numIters, \n",
    "                    'saveTrajectory': True, # save trajectory for calculating additional metrics\n",
    "                    'epLen' : 5,\n",
    "                    'render': False,\n",
    "                    'pickle': False # indicator for pickling final information\n",
    "                    }\n",
    "\n",
    "\n",
    "alpha = CONFIG['alpha']\n",
    "arrival_dist = uniform\n",
    "num_ambulance = CONFIG['num_ambulance']\n",
    "\n",
    "ambulance_env = gym.make('Ambulance-v0', config=CONFIG)\n",
    "mon_env = Monitor(ambulance_env)\n",
    "\n",
    "agents = { 'SB PPO': PPO(MlpPolicy, mon_env, gamma=1, verbose=0, n_steps=epLen),\n",
    "'Random': or_suite.agents.rl.random.randomAgent(),\n",
    "'Stable': or_suite.agents.ambulance.stable.stableAgent(CONFIG['epLen']),\n",
    "'Median': or_suite.agents.ambulance.median.medianAgent(CONFIG['epLen']),\n",
    "'AdaQL': or_suite.agents.rl.ada_ql.AdaptiveDiscretizationQL(epLen, scaling_list[0], True, num_ambulance*2),\n",
    "'AdaMB': or_suite.agents.rl.ada_mb.AdaptiveDiscretizationMB(epLen, scaling_list[0], 0, 2, True, True, num_ambulance, num_ambulance),\n",
    "'Unif QL': or_suite.agents.rl.enet_ql.eNetQL(action_net, state_net, epLen, scaling_list[0], (num_ambulance,num_ambulance)),\n",
    "'Unif MB': or_suite.agents.rl.enet_mb.eNetMB(action_net, state_net, epLen, scaling_list[0], (num_ambulance,num_ambulance), 0, False),\n",
    "}\n",
    "\n",
    "\n",
    "path_list_line = []\n",
    "algo_list_line = []\n",
    "path_list_radar = []\n",
    "algo_list_radar= []\n",
    "for agent in agents:\n",
    "    print(agent)\n",
    "    DEFAULT_SETTINGS['dirPath'] = '../data/ambulance_metric_'+str(agent)+'_'+str(num_ambulance)+'_'+str(alpha)+'_'+str(arrival_dist.__name__)+'/'\n",
    "    if agent == 'SB PPO':\n",
    "        or_suite.utils.run_single_sb_algo(mon_env, agents[agent], DEFAULT_SETTINGS)\n",
    "    elif agent == 'AdaQL' or agent == 'Unif QL' or agent == 'AdaMB' or agent == 'Unif MB':\n",
    "        or_suite.utils.run_single_algo_tune(ambulance_env, agents[agent], scaling_list, DEFAULT_SETTINGS)\n",
    "    else:\n",
    "        or_suite.utils.run_single_algo(ambulance_env, agents[agent], DEFAULT_SETTINGS)\n",
    "\n",
    "    path_list_line.append('../data/ambulance_metric_'+str(agent)+'_'+str(num_ambulance)+'_'+str(alpha)+'_'+str(arrival_dist.__name__))\n",
    "    algo_list_line.append(str(agent))\n",
    "    if agent != 'SB PPO':\n",
    "        path_list_radar.append('../data/ambulance_metric_'+str(agent)+'_'+str(num_ambulance)+'_'+str(alpha)+'_'+str(arrival_dist.__name__))\n",
    "        algo_list_radar.append(str(agent))\n",
    "fig_path = '../figures/'\n",
    "fig_name = 'ambulance_metric'+'_'+str(num_ambulance)+'_'+str(alpha)+'_'+str(arrival_dist.__name__)+'_line_plot'+'.pdf'\n",
    "or_suite.plots.plot_line_plots(path_list_line, algo_list_line, fig_path, fig_name, int(nEps / 40)+1)\n",
    "\n",
    "additional_metric = {'MRT': lambda traj : or_suite.utils.mean_response_time(traj, lambda x, y : np.abs(x-y)), 'RTV': lambda traj : or_suite.utils.response_time_variance(traj, lambda x, y : np.abs(x-y))}\n",
    "fig_name = 'ambulance_metric'+'_'+str(num_ambulance)+'_'+str(alpha)+'_'+str(arrival_dist.__name__)+'_radar_plot'+'.pdf'\n",
    "or_suite.plots.plot_radar_plots(path_list_radar, algo_list_radar,\n",
    "fig_path, fig_name,\n",
    "additional_metric\n",
    ")\n",
    "\n",
    "\n"
   ]
  },
  {
   "cell_type": "markdown",
   "id": "c1d71d0e",
   "metadata": {},
   "source": [
    "Here we again see that the median heuristic performs the best in this limited data regime by again placing ambulances close to the median of the arrival distribution (which in this setting will be at $0.5$)"
   ]
  }
 ],
 "metadata": {
  "kernelspec": {
   "display_name": "Python 3 (ipykernel)",
   "language": "python",
   "name": "python3"
  },
  "language_info": {
   "codemirror_mode": {
    "name": "ipython",
    "version": 3
   },
   "file_extension": ".py",
   "mimetype": "text/x-python",
   "name": "python",
   "nbconvert_exporter": "python",
   "pygments_lexer": "ipython3",
   "version": "3.8.5"
  }
 },
 "nbformat": 4,
 "nbformat_minor": 5
}
