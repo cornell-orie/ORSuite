{
 "cells": [
  {
   "cell_type": "markdown",
   "id": "experienced-income",
   "metadata": {},
   "source": [
    "# Resource Allocation Code Demo\n",
    "\n",
    "The Food Bank of the Southern Tier (FBST) is a member of Feeding America, focused on providing food security for people with limited financial resources, and serves six counties and nearly 4,000 square miles in the New York.  Under normal operations (non COVID times), the Mobile Food Pantry program is among the main activities of the FBST.  The goal of the service is to make nutritious and healthy food more accessible to people in underserved communities.  Even in areas where other agencies provide assistance, clients may not always have access to food due to limited public transportation options, or because those agencies are only open hours or days per work.\n",
    "\n",
    "Here we do a sample experiment testing out some of the existing and developed algorithms against a randomized heuristic."
   ]
  },
  {
   "cell_type": "code",
   "execution_count": 1,
   "id": "54262089",
   "metadata": {
    "scrolled": true
   },
   "outputs": [],
   "source": [
    "import or_suite\n",
    "import numpy as np\n",
    "\n",
    "import copy\n",
    "\n",
    "import os\n",
    "from stable_baselines3.common.monitor import Monitor\n",
    "from stable_baselines3 import PPO\n",
    "from stable_baselines3.ppo import MlpPolicy\n",
    "from stable_baselines3.common.env_util import make_vec_env\n",
    "from stable_baselines3.common.evaluation import evaluate_policy\n",
    "import pandas as pd\n",
    "\n",
    "\n",
    "import gym"
   ]
  },
  {
   "cell_type": "code",
   "execution_count": 2,
   "id": "exclusive-roots",
   "metadata": {
    "scrolled": true
   },
   "outputs": [],
   "source": [
    "# Getting out configuration parameter for the environment\n",
    "CONFIG =  or_suite.envs.env_configs.resource_allocation_default_config\n",
    "\n",
    "\n",
    "# Specifying training iteration, epLen, number of episodes, and number of iterations\n",
    "epLen = CONFIG['num_rounds']\n",
    "nEps = 1\n",
    "numIters = 100\n",
    "\n",
    "# Configuration parameters for running the experiment\n",
    "DEFAULT_SETTINGS = {'seed': 1, \n",
    "                    'recFreq': 1, \n",
    "                    'dirPath': '../data/resource/', \n",
    "                    'deBug': False, \n",
    "                    'nEps': nEps, \n",
    "                    'numIters': numIters, \n",
    "                    'saveTrajectory': True, # save trajectory for calculating additional metrics\n",
    "                    'epLen' : epLen,\n",
    "                    'render': False,\n",
    "                    'pickle': False # indicator for pickling final information\n",
    "                    }\n",
    "\n",
    "resource_env = gym.make('Resource-v0', config=CONFIG)\n",
    "mon_env = Monitor(resource_env)\n"
   ]
  },
  {
   "cell_type": "code",
   "execution_count": 3,
   "id": "comprehensive-amplifier",
   "metadata": {
    "scrolled": true
   },
   "outputs": [
    {
     "name": "stdout",
     "output_type": "stream",
     "text": [
      "Mean and variance endomwnets:\n",
      "[[1.952 1.973 2.037 2.016 2.073 1.949 2.002 2.005 2.052 2.05 ]\n",
      " [2.947 3.043 2.995 2.965 3.02  2.994 3.003 3.001 3.036 3.001]\n",
      " [3.945 3.992 4.033 3.934 4.003 4.048 3.993 4.041 4.033 3.931]] [[0.937696 1.044271 0.983631 1.017744 1.047671 0.932399 1.015996 1.014975\n",
      "  1.125296 1.0335  ]\n",
      " [2.008191 1.979151 2.058975 2.031775 2.1296   1.977964 2.064991 2.144999\n",
      "  2.058704 1.972999]\n",
      " [3.063975 3.049936 2.951911 2.989644 2.946991 2.985696 3.104951 2.959319\n",
      "  3.035911 2.730239]]\n",
      "Mean and variance endomwnets:\n",
      "[[1.973 2.026 1.999 1.942 2.007 2.019 1.98  2.024 2.078 2.011]\n",
      " [3.122 3.054 2.903 3.008 2.986 3.042 2.995 3.073 2.989 2.912]\n",
      " [4.01  4.024 3.901 3.92  3.968 4.035 4.051 3.966 3.963 4.027]] [[1.116271 1.065324 0.970999 0.950636 0.944951 0.980639 0.9916   0.983424\n",
      "  0.987916 1.034879]\n",
      " [2.043116 1.959084 2.047591 1.899936 2.009804 2.082236 1.940975 2.019671\n",
      "  1.986879 1.954256]\n",
      " [2.9119   3.143424 3.051199 3.1016   2.688976 3.171775 3.136399 2.930844\n",
      "  3.093631 2.970271]]\n",
      "Mean and variance endomwnets:\n",
      "[[2.005 1.97  2.023 2.048 1.985 1.973 2.038 2.013 2.015 2.032]\n",
      " [3.005 2.962 3.022 3.012 2.998 3.048 2.996 2.953 2.943 3.049]\n",
      " [4.013 4.089 4.081 3.999 3.977 4.116 3.923 3.93  3.983 3.994]] [[0.962975 0.9571   0.972471 1.035696 1.042775 0.960271 0.976556 1.018831\n",
      "  0.948775 1.090976]\n",
      " [1.946975 1.916556 2.077516 2.139856 1.983996 2.047696 2.199984 1.962791\n",
      "  1.889751 1.996599]\n",
      " [2.868831 2.959079 3.052439 2.962999 2.878471 2.846544 2.877071 2.9151\n",
      "  3.008711 2.929964]]\n"
     ]
    }
   ],
   "source": [
    "agents = { # 'SB PPO': PPO(MlpPolicy, mon_env, gamma=1, verbose=0, n_steps=epLen),\n",
    "#  'Random': or_suite.agents.rl.random.randomAgent(),\n",
    "#  'Equal': or_suite.agents.resource_allocation.equal_allocation.equalAllocationAgent(epLen, CONFIG),\n",
    " 'FixedThreshold': or_suite.agents.resource_allocation.fixed_threshold.fixedThresholdAgent(epLen, CONFIG),\n",
    " 'Guardrail-0.5': or_suite.agents.resource_allocation.hope_guardrail.hopeguardrailAgent(epLen, CONFIG, 0.5),\n",
    " 'Guardrail-0.3': or_suite.agents.resource_allocation.hope_guardrail.hopeguardrailAgent(epLen, CONFIG, 0.3),\n",
    "'Guardrail-0.25': or_suite.agents.resource_allocation.hope_guardrail.hopeguardrailAgent(epLen, CONFIG, 0.25)\n",
    "}"
   ]
  },
  {
   "cell_type": "markdown",
   "id": "optional-dublin",
   "metadata": {},
   "source": [
    "# Step 5: Run Simulations\n",
    "\n",
    "Run the different heuristics in the environment"
   ]
  },
  {
   "cell_type": "code",
   "execution_count": 4,
   "id": "78e2e1b9",
   "metadata": {},
   "outputs": [],
   "source": [
    "import warnings\n",
    "warnings.simplefilter('ignore')"
   ]
  },
  {
   "cell_type": "code",
   "execution_count": 5,
   "id": "c1a07ba9",
   "metadata": {
    "scrolled": true
   },
   "outputs": [
    {
     "name": "stdout",
     "output_type": "stream",
     "text": [
      "FixedThreshold\n",
      "Lower Solutions:\n",
      "[[0.      0.13786]\n",
      " [0.      0.13786]\n",
      " [0.15706 0.     ]]\n",
      "Writing to file data.csv\n",
      "Guardrail-0.5\n",
      "Lower and Upper Solutions:\n",
      "[[0.      0.2062 ]\n",
      " [0.      0.2062 ]\n",
      " [0.23741 0.     ]]\n",
      "[[0.      0.30157]\n",
      " [0.      0.30157]\n",
      " [0.34721 0.     ]]\n",
      "Out of Budget!\n",
      "Out of Budget!\n",
      "Out of Budget!\n",
      "Out of Budget!\n",
      "Out of Budget!\n",
      "Out of Budget!\n",
      "Out of Budget!\n",
      "Out of Budget!\n",
      "Out of Budget!\n",
      "Out of Budget!\n",
      "Out of Budget!\n",
      "Out of Budget!\n",
      "Out of Budget!\n",
      "Out of Budget!\n",
      "Out of Budget!\n",
      "Out of Budget!\n",
      "Out of Budget!\n",
      "Out of Budget!\n",
      "Out of Budget!\n",
      "Out of Budget!\n",
      "Out of Budget!\n",
      "Out of Budget!\n",
      "Writing to file data.csv\n",
      "Guardrail-0.3\n",
      "Lower and Upper Solutions:\n",
      "[[0.      0.20699]\n",
      " [0.      0.20699]\n",
      " [0.23837 0.     ]]\n",
      "[[0.      0.41497]\n",
      " [0.      0.41497]\n",
      " [0.47787 0.     ]]\n",
      "Out of Budget!\n",
      "Out of Budget!\n",
      "Out of Budget!\n",
      "Out of Budget!\n",
      "Out of Budget!\n",
      "Out of Budget!\n",
      "Out of Budget!\n",
      "Out of Budget!\n",
      "Out of Budget!\n",
      "Out of Budget!\n",
      "Out of Budget!\n",
      "Out of Budget!\n",
      "Out of Budget!\n",
      "Out of Budget!\n",
      "Out of Budget!\n",
      "Out of Budget!\n",
      "Out of Budget!\n",
      "Out of Budget!\n",
      "Out of Budget!\n",
      "Out of Budget!\n",
      "Out of Budget!\n",
      "Out of Budget!\n",
      "Out of Budget!\n",
      "Out of Budget!\n",
      "Out of Budget!\n",
      "Out of Budget!\n",
      "Out of Budget!\n",
      "Out of Budget!\n",
      "Out of Budget!\n",
      "Out of Budget!\n",
      "Out of Budget!\n",
      "Out of Budget!\n",
      "Writing to file data.csv\n",
      "Guardrail-0.25\n",
      "Lower and Upper Solutions:\n",
      "[[0.      0.20671]\n",
      " [0.      0.20671]\n",
      " [0.23683 0.     ]]\n",
      "[[0.      0.47231]\n",
      " [0.      0.47231]\n",
      " [0.54114 0.     ]]\n",
      "Out of Budget!\n",
      "Out of Budget!\n",
      "Out of Budget!\n",
      "Out of Budget!\n",
      "Out of Budget!\n",
      "Out of Budget!\n",
      "Out of Budget!\n",
      "Out of Budget!\n",
      "Out of Budget!\n",
      "Out of Budget!\n",
      "Out of Budget!\n",
      "Out of Budget!\n",
      "Out of Budget!\n",
      "Out of Budget!\n",
      "Out of Budget!\n",
      "Out of Budget!\n",
      "Out of Budget!\n",
      "Out of Budget!\n",
      "Out of Budget!\n",
      "Out of Budget!\n",
      "Out of Budget!\n",
      "Out of Budget!\n",
      "Writing to file data.csv\n",
      "traj len 1000\n",
      "times out of budget 0\n",
      "num_iter 100\n",
      "traj len 1000\n",
      "times out of budget 22\n",
      "num_iter 100\n",
      "traj len 1000\n",
      "times out of budget 32\n",
      "num_iter 100\n",
      "traj len 1000\n",
      "times out of budget 22\n",
      "num_iter 100\n",
      "        Algorithm     Reward      Time     Space  Efficiency  Hindsight Envy  \\\n",
      "0  FixedThreshold -10.792471  5.356237 -14865.86 -712.939760     -108.333000   \n",
      "1   Guardrail-0.5 -29.016400  5.122377 -12894.59 -106.500765     -191.834274   \n",
      "2   Guardrail-0.3 -38.801819  5.075093 -12902.81 -104.458597     -198.216089   \n",
      "3  Guardrail-0.25 -29.020787  5.121203 -12761.08 -110.761059     -189.368420   \n",
      "\n",
      "   Counterfactual Envy  Budget  \n",
      "0           -69.889620    0.00  \n",
      "1           -55.035721    0.22  \n",
      "2           -65.683404    0.32  \n",
      "3           -62.029053    0.22  \n"
     ]
    }
   ],
   "source": [
    "path_list_line = []\n",
    "algo_list_line = []\n",
    "path_list_radar = []\n",
    "algo_list_radar= []\n",
    "for agent in agents:\n",
    "    print(agent)\n",
    "    DEFAULT_SETTINGS['dirPath'] = '../data/resource_'+str(agent)+'/'\n",
    "    if agent == 'SB PPO':\n",
    "        or_suite.utils.run_single_sb_algo(mon_env, agents[agent], DEFAULT_SETTINGS)\n",
    "    elif agent == 'AdaQL' or agent == 'Unif QL' or agent == 'AdaMB' or agent == 'Unif MB':\n",
    "        or_suite.utils.run_single_algo_tune(resource_env, agents[agent], scaling_list, DEFAULT_SETTINGS)\n",
    "    else:\n",
    "        or_suite.utils.run_single_algo(resource_env, agents[agent], DEFAULT_SETTINGS)\n",
    "\n",
    "    path_list_line.append('../data/resource_'+str(agent))\n",
    "    algo_list_line.append(str(agent))\n",
    "    if agent != 'SB PPO':\n",
    "        path_list_radar.append('../data/resource_'+str(agent)+'/')\n",
    "        algo_list_radar.append(str(agent))     \n",
    "        \n",
    "fig_path = '../figures/'\n",
    "fig_name = 'resource'+'_line_plot'+'.pdf'\n",
    "or_suite.plots.plot_line_plots(path_list_line, algo_list_line, fig_path, fig_name, int(nEps / 40)+1)        \n",
    "        \n",
    "additional_metric = {'Efficiency': lambda traj : or_suite.utils.delta_EFFICIENCY(traj, CONFIG), \\\n",
    "                      'Hindsight Envy': lambda traj : or_suite.utils.delta_HINDSIGHT_ENVY(traj, CONFIG), \\\n",
    "                      'Counterfactual Envy': lambda traj : or_suite.utils.delta_COUNTERFACTUAL_ENVY(traj, CONFIG), \\\n",
    "                      'Budget' : lambda traj : or_suite.utils.times_out_of_budget(traj, CONFIG)}\n",
    "#                       'Prop': lambda traj : or_suite.utils.delta_PROP(traj, CONFIG), \\\n",
    "#                       'Exante Envy': lambda traj : or_suite.utils.delta_EXANTE_ENVY(traj, CONFIG)}\n",
    "fig_name = 'resource'+'_radar_plot'+'.pdf'\n",
    "or_suite.plots.plot_radar_plots(path_list_radar, algo_list_radar,\n",
    "fig_path, fig_name,\n",
    "additional_metric\n",
    ")"
   ]
  },
  {
   "cell_type": "code",
   "execution_count": 6,
   "id": "96273425",
   "metadata": {
    "scrolled": false
   },
   "outputs": [
    {
     "data": {
      "text/html": [
       "\n",
       "        <iframe\n",
       "            width=\"600\"\n",
       "            height=\"280\"\n",
       "            src=\"../figures/resource_line_plot.pdf\"\n",
       "            frameborder=\"0\"\n",
       "            allowfullscreen\n",
       "            \n",
       "        ></iframe>\n",
       "        "
      ],
      "text/plain": [
       "<IPython.lib.display.IFrame at 0x7fa86f95a1f0>"
      ]
     },
     "execution_count": 6,
     "metadata": {},
     "output_type": "execute_result"
    }
   ],
   "source": [
    "from IPython.display import IFrame\n",
    "IFrame(\"../figures/resource_line_plot.pdf\", width=600, height=280)"
   ]
  },
  {
   "cell_type": "code",
   "execution_count": 7,
   "id": "0c08c369",
   "metadata": {},
   "outputs": [
    {
     "data": {
      "text/html": [
       "\n",
       "        <iframe\n",
       "            width=\"600\"\n",
       "            height=\"500\"\n",
       "            src=\"../figures/resource_radar_plot.pdf\"\n",
       "            frameborder=\"0\"\n",
       "            allowfullscreen\n",
       "            \n",
       "        ></iframe>\n",
       "        "
      ],
      "text/plain": [
       "<IPython.lib.display.IFrame at 0x7fa87cb7ccd0>"
      ]
     },
     "execution_count": 7,
     "metadata": {},
     "output_type": "execute_result"
    }
   ],
   "source": [
    "IFrame(\"../figures/resource_radar_plot.pdf\", width=600, height=500)"
   ]
  }
 ],
 "metadata": {
  "kernelspec": {
   "display_name": "Python 3 (ipykernel)",
   "language": "python",
   "name": "python3"
  },
  "language_info": {
   "codemirror_mode": {
    "name": "ipython",
    "version": 3
   },
   "file_extension": ".py",
   "mimetype": "text/x-python",
   "name": "python",
   "nbconvert_exporter": "python",
   "pygments_lexer": "ipython3",
   "version": "3.8.5"
  }
 },
 "nbformat": 4,
 "nbformat_minor": 5
}
