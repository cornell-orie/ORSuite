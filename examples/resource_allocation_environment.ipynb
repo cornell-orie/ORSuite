{
 "cells": [
  {
   "cell_type": "markdown",
   "id": "experienced-income",
   "metadata": {},
   "source": [
    "# Resource Allocation Code Demo\n",
    "\n",
    "The Food Bank of the Southern Tier (FBST) is a member of Feeding America, focused on providing food security for people with limited financial resources, and serves six counties and nearly 4,000 square miles in the New York.  Under normal operations (non COVID times), the Mobile Food Pantry program is among the main activities of the FBST.  The goal of the service is to make nutritious and healthy food more accessible to people in underserved communities.  Even in areas where other agencies provide assistance, clients may not always have access to food due to limited public transportation options, or because those agencies are only open hours or days per work.\n",
    "\n",
    "Here we do a sample experiment testing out some of the existing and developed algorithms against a randomized heuristic."
   ]
  },
  {
   "cell_type": "code",
   "execution_count": 1,
   "id": "54262089",
   "metadata": {
    "scrolled": true
   },
   "outputs": [],
   "source": [
    "import or_suite\n",
    "import numpy as np\n",
    "\n",
    "import copy\n",
    "\n",
    "import os\n",
    "from stable_baselines3.common.monitor import Monitor\n",
    "from stable_baselines3 import PPO\n",
    "from stable_baselines3.ppo import MlpPolicy\n",
    "from stable_baselines3.common.env_util import make_vec_env\n",
    "from stable_baselines3.common.evaluation import evaluate_policy\n",
    "import pandas as pd\n",
    "\n",
    "\n",
    "import gym"
   ]
  },
  {
   "cell_type": "code",
   "execution_count": 2,
   "id": "exclusive-roots",
   "metadata": {
    "scrolled": true
   },
   "outputs": [],
   "source": [
    "# Getting out configuration parameter for the environment\n",
    "CONFIG =  or_suite.envs.env_configs.resource_allocation_default_config\n",
    "\n",
    "\n",
    "# Specifying training iteration, epLen, number of episodes, and number of iterations\n",
    "epLen = CONFIG['num_rounds']\n",
    "nEps = 1\n",
    "numIters = 100\n",
    "\n",
    "# Configuration parameters for running the experiment\n",
    "DEFAULT_SETTINGS = {'seed': 1, \n",
    "                    'recFreq': 1, \n",
    "                    'dirPath': '../data/resource/', \n",
    "                    'deBug': False, \n",
    "                    'nEps': nEps, \n",
    "                    'numIters': numIters, \n",
    "                    'saveTrajectory': True, # save trajectory for calculating additional metrics\n",
    "                    'epLen' : epLen,\n",
    "                    'render': False,\n",
    "                    'pickle': False # indicator for pickling final information\n",
    "                    }\n",
    "\n",
    "resource_env = gym.make('Resource-v0', config=CONFIG)\n",
    "mon_env = Monitor(resource_env)\n"
   ]
  },
  {
   "cell_type": "code",
   "execution_count": 3,
   "id": "comprehensive-amplifier",
   "metadata": {
    "scrolled": true
   },
   "outputs": [
    {
     "name": "stdout",
     "output_type": "stream",
     "text": [
      "Mean and variance endomwnets:\n",
      "[[1.986 1.983 2.001 1.988 2.039 2.004 1.993 2.047 2.055 2.046]\n",
      " [3.073 2.918 2.873 3.03  2.964 2.941 3.062 3.008 2.886 3.041]\n",
      " [3.97  3.936 3.984 4.065 3.977 4.005 4.006 4.006 4.111 3.904]] [[0.991804 0.980711 0.978999 1.031856 1.087479 1.031984 0.944951 1.038791\n",
      "  1.093975 1.007884]\n",
      " [2.035671 1.895276 1.902871 1.9891   2.078704 1.883519 1.900156 2.107936\n",
      "  1.851004 2.125319]\n",
      " [2.9631   2.927904 3.131744 3.046775 2.900471 2.938975 3.139964 2.867964\n",
      "  2.886679 2.970784]]\n",
      "Mean and variance endomwnets:\n",
      "[[1.984 1.983 1.979 2.035 1.971 2.046 2.006 1.958 2.016 1.966]\n",
      " [3.064 2.944 2.959 2.988 2.965 2.997 3.008 3.053 2.975 2.949]\n",
      " [4.049 4.171 4.046 4.007 3.973 4.034 3.998 4.044 4.006 3.832]] [[1.037744 0.970711 0.972559 1.075775 0.948159 1.019884 0.953964 0.942236\n",
      "  0.909744 0.942844]\n",
      " [2.325904 1.980864 1.981319 2.093856 1.999775 1.920991 2.045936 1.940191\n",
      "  1.870375 1.876399]\n",
      " [2.916599 3.379759 2.969884 2.774951 2.794271 2.990844 3.059996 2.960064\n",
      "  3.101964 2.869776]]\n",
      "Mean and variance endomwnets:\n",
      "[[2.006 1.944 1.978 1.992 2.04  1.936 1.991 2.022 2.019 2.048]\n",
      " [2.963 3.055 3.032 2.983 3.012 2.968 2.992 3.049 3.001 2.942]\n",
      " [4.069 4.01  3.961 3.952 3.998 3.976 4.053 3.982 4.05  3.896]] [[0.987964 0.968864 1.003516 0.975936 0.9904   0.931904 0.998919 1.007516\n",
      "  0.998639 1.077696]\n",
      " [1.931631 1.961975 1.950976 2.014711 2.275856 1.830976 1.975936 1.966599\n",
      "  1.902999 1.744636]\n",
      " [2.994239 2.9959   3.189479 2.795696 3.123996 3.129424 3.398191 2.761676\n",
      "  3.2095   2.829184]]\n"
     ]
    }
   ],
   "source": [
    "agents = { # 'SB PPO': PPO(MlpPolicy, mon_env, gamma=1, verbose=0, n_steps=epLen),\n",
    "#  'Random': or_suite.agents.rl.random.randomAgent(),\n",
    "#  'Equal': or_suite.agents.resource_allocation.equal_allocation.equalAllocationAgent(epLen, CONFIG),\n",
    " 'FixedThreshold': or_suite.agents.resource_allocation.fixed_threshold.fixedThresholdAgent(epLen, CONFIG),\n",
    " 'Guardrail-0.5': or_suite.agents.resource_allocation.hope_guardrail.hopeguardrailAgent(epLen, CONFIG, 0.5),\n",
    " 'Guardrail-0.3': or_suite.agents.resource_allocation.hope_guardrail.hopeguardrailAgent(epLen, CONFIG, 0.3),\n",
    "'Guardrail-0.25': or_suite.agents.resource_allocation.hope_guardrail.hopeguardrailAgent(epLen, CONFIG, 0.25)\n",
    "}"
   ]
  },
  {
   "cell_type": "markdown",
   "id": "optional-dublin",
   "metadata": {},
   "source": [
    "# Step 5: Run Simulations\n",
    "\n",
    "Run the different heuristics in the environment"
   ]
  },
  {
   "cell_type": "code",
   "execution_count": 4,
   "id": "78e2e1b9",
   "metadata": {},
   "outputs": [],
   "source": [
    "import warnings\n",
    "warnings.simplefilter('ignore')"
   ]
  },
  {
   "cell_type": "code",
   "execution_count": 5,
   "id": "c1a07ba9",
   "metadata": {
    "scrolled": true
   },
   "outputs": [
    {
     "name": "stdout",
     "output_type": "stream",
     "text": [
      "FixedThreshold\n",
      "Lower Solutions:\n",
      "[[0.      0.13022]\n",
      " [0.      0.13022]\n",
      " [0.15472 0.     ]]\n",
      "Writing to file data.csv\n",
      "Guardrail-0.5\n",
      "Lower and Upper Solutions:\n",
      "[[0.      0.13152]\n",
      " [0.      0.13152]\n",
      " [0.15565 0.     ]]\n",
      "[[0.      0.19235]\n",
      " [0.      0.19235]\n",
      " [0.22763 0.     ]]\n",
      "Writing to file data.csv\n",
      "Guardrail-0.3\n",
      "Lower and Upper Solutions:\n",
      "[[0.     0.1301]\n",
      " [0.     0.1301]\n",
      " [0.1533 0.    ]]\n",
      "[[0.      0.26082]\n",
      " [0.      0.26082]\n",
      " [0.30733 0.     ]]\n",
      "Out of Budget!\n",
      "Out of Budget!\n",
      "Writing to file data.csv\n",
      "Guardrail-0.25\n",
      "Lower and Upper Solutions:\n",
      "[[0.      0.12937]\n",
      " [0.      0.12937]\n",
      " [0.15388 0.     ]]\n",
      "[[0.      0.29559]\n",
      " [0.      0.29559]\n",
      " [0.35161 0.     ]]\n",
      "Writing to file data.csv\n",
      "traj len 1000\n",
      "traj len 1000\n",
      "traj len 1000\n",
      "traj len 1000\n",
      "        Algorithm     Reward      Time     Space  Efficiency  Hindsight Envy  \\\n",
      "0  FixedThreshold -10.825881  5.418436 -14837.94 -674.632020     -101.691000   \n",
      "1   Guardrail-0.5  -7.785647  5.216183 -12666.22 -200.791771     -155.457934   \n",
      "2   Guardrail-0.3 -10.069787  5.212668 -12597.08 -176.343800     -219.661369   \n",
      "3  Guardrail-0.25  -8.361450  5.233395 -12502.47 -182.838750     -251.296132   \n",
      "\n",
      "   Counterfactual Envy  Budget  \n",
      "0           -61.948560    0.00  \n",
      "1           -44.471471    0.00  \n",
      "2           -72.103597    0.02  \n",
      "3           -92.068963    0.00  \n"
     ]
    }
   ],
   "source": [
    "path_list_line = []\n",
    "algo_list_line = []\n",
    "path_list_radar = []\n",
    "algo_list_radar= []\n",
    "for agent in agents:\n",
    "    print(agent)\n",
    "    DEFAULT_SETTINGS['dirPath'] = '../data/resource_'+str(agent)+'/'\n",
    "    if agent == 'SB PPO':\n",
    "        or_suite.utils.run_single_sb_algo(mon_env, agents[agent], DEFAULT_SETTINGS)\n",
    "    elif agent == 'AdaQL' or agent == 'Unif QL' or agent == 'AdaMB' or agent == 'Unif MB':\n",
    "        or_suite.utils.run_single_algo_tune(resource_env, agents[agent], scaling_list, DEFAULT_SETTINGS)\n",
    "    else:\n",
    "        or_suite.utils.run_single_algo(resource_env, agents[agent], DEFAULT_SETTINGS)\n",
    "\n",
    "    path_list_line.append('../data/resource_'+str(agent))\n",
    "    algo_list_line.append(str(agent))\n",
    "    if agent != 'SB PPO':\n",
    "        path_list_radar.append('../data/resource_'+str(agent)+'/')\n",
    "        algo_list_radar.append(str(agent))     \n",
    "        \n",
    "fig_path = '../figures/'\n",
    "fig_name = 'resource'+'_line_plot'+'.pdf'\n",
    "or_suite.plots.plot_line_plots(path_list_line, algo_list_line, fig_path, fig_name, int(nEps / 40)+1)        \n",
    "        \n",
    "additional_metric = {'Efficiency': lambda traj : or_suite.utils.delta_EFFICIENCY(traj, CONFIG), \\\n",
    "                      'Hindsight Envy': lambda traj : or_suite.utils.delta_HINDSIGHT_ENVY(traj, CONFIG), \\\n",
    "                      'Counterfactual Envy': lambda traj : or_suite.utils.delta_COUNTERFACTUAL_ENVY(traj, CONFIG), \\\n",
    "                      'Budget' : lambda traj : or_suite.utils.times_out_of_budget(traj, CONFIG)}\n",
    "#                       'Prop': lambda traj : or_suite.utils.delta_PROP(traj, CONFIG), \\\n",
    "#                       'Exante Envy': lambda traj : or_suite.utils.delta_EXANTE_ENVY(traj, CONFIG)}\n",
    "fig_name = 'resource'+'_radar_plot'+'.pdf'\n",
    "or_suite.plots.plot_radar_plots(path_list_radar, algo_list_radar,\n",
    "fig_path, fig_name,\n",
    "additional_metric\n",
    ")"
   ]
  },
  {
   "cell_type": "code",
   "execution_count": 6,
   "id": "96273425",
   "metadata": {
    "scrolled": false
   },
   "outputs": [
    {
     "data": {
      "text/html": [
       "\n",
       "        <iframe\n",
       "            width=\"600\"\n",
       "            height=\"280\"\n",
       "            src=\"../figures/resource_line_plot.pdf\"\n",
       "            frameborder=\"0\"\n",
       "            allowfullscreen\n",
       "            \n",
       "        ></iframe>\n",
       "        "
      ],
      "text/plain": [
       "<IPython.lib.display.IFrame at 0x7fe24e38f640>"
      ]
     },
     "execution_count": 6,
     "metadata": {},
     "output_type": "execute_result"
    }
   ],
   "source": [
    "from IPython.display import IFrame\n",
    "IFrame(\"../figures/resource_line_plot.pdf\", width=600, height=280)"
   ]
  },
  {
   "cell_type": "code",
   "execution_count": 7,
   "id": "0c08c369",
   "metadata": {},
   "outputs": [
    {
     "data": {
      "text/html": [
       "\n",
       "        <iframe\n",
       "            width=\"600\"\n",
       "            height=\"500\"\n",
       "            src=\"../figures/resource_radar_plot.pdf\"\n",
       "            frameborder=\"0\"\n",
       "            allowfullscreen\n",
       "            \n",
       "        ></iframe>\n",
       "        "
      ],
      "text/plain": [
       "<IPython.lib.display.IFrame at 0x7fe23d472af0>"
      ]
     },
     "execution_count": 7,
     "metadata": {},
     "output_type": "execute_result"
    }
   ],
   "source": [
    "IFrame(\"../figures/resource_radar_plot.pdf\", width=600, height=500)"
   ]
  }
 ],
 "metadata": {
  "kernelspec": {
   "display_name": "Python 3 (ipykernel)",
   "language": "python",
   "name": "python3"
  },
  "language_info": {
   "codemirror_mode": {
    "name": "ipython",
    "version": 3
   },
   "file_extension": ".py",
   "mimetype": "text/x-python",
   "name": "python",
   "nbconvert_exporter": "python",
   "pygments_lexer": "ipython3",
   "version": "3.8.5"
  }
 },
 "nbformat": 4,
 "nbformat_minor": 5
}
