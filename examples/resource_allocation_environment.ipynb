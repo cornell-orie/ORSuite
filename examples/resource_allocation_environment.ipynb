{
 "cells": [
  {
   "cell_type": "markdown",
   "id": "experienced-income",
   "metadata": {},
   "source": [
    "# Resource Allocation Code Demo\n",
    "\n",
    "The Food Bank of the Southern Tier (FBST) is a member of Feeding America, focused on providing food security for people with limited financial resources, and serves six counties and nearly 4,000 square miles in the New York.  Under normal operations (non COVID times), the Mobile Food Pantry program is among the main activities of the FBST.  The goal of the service is to make nutritious and healthy food more accessible to people in underserved communities.  Even in areas where other agencies provide assistance, clients may not always have access to food due to limited public transportation options, or because those agencies are only open hours or days per work.\n",
    "\n",
    "Here we do a sample experiment testing out some of the existing and developed algorithms against a randomized heuristic."
   ]
  },
  {
   "cell_type": "code",
   "execution_count": 1,
   "id": "54262089",
   "metadata": {
    "scrolled": true
   },
   "outputs": [],
   "source": [
    "import or_suite\n",
    "import numpy as np\n",
    "\n",
    "import copy\n",
    "\n",
    "import os\n",
    "from stable_baselines3.common.monitor import Monitor\n",
    "from stable_baselines3 import PPO\n",
    "from stable_baselines3.ppo import MlpPolicy\n",
    "from stable_baselines3.common.env_util import make_vec_env\n",
    "from stable_baselines3.common.evaluation import evaluate_policy\n",
    "import pandas as pd\n",
    "\n",
    "\n",
    "import gym"
   ]
  },
  {
   "cell_type": "code",
   "execution_count": 2,
   "id": "exclusive-roots",
   "metadata": {
    "scrolled": true
   },
   "outputs": [],
   "source": [
    "# Getting out configuration parameter for the environment\n",
    "CONFIG =  or_suite.envs.env_configs.resource_allocation_default_config\n",
    "\n",
    "\n",
    "# Specifying training iteration, epLen, number of episodes, and number of iterations\n",
    "epLen = CONFIG['num_rounds']\n",
    "nEps = 1\n",
    "numIters = 100\n",
    "\n",
    "# Configuration parameters for running the experiment\n",
    "DEFAULT_SETTINGS = {'seed': 1, \n",
    "                    'recFreq': 1, \n",
    "                    'dirPath': '../data/resource/', \n",
    "                    'deBug': False, \n",
    "                    'nEps': nEps, \n",
    "                    'numIters': numIters, \n",
    "                    'saveTrajectory': True, # save trajectory for calculating additional metrics\n",
    "                    'epLen' : epLen,\n",
    "                    'render': False,\n",
    "                    'pickle': False # indicator for pickling final information\n",
    "                    }\n",
    "\n",
    "resource_env = gym.make('Resource-v0', config=CONFIG)\n",
    "mon_env = Monitor(resource_env)\n"
   ]
  },
  {
   "cell_type": "code",
   "execution_count": 3,
   "id": "comprehensive-amplifier",
   "metadata": {
    "scrolled": true
   },
   "outputs": [
    {
     "name": "stdout",
     "output_type": "stream",
     "text": [
      "Mean and variance endomwnets:\n",
      "[[1.972 1.97  2.018 1.959 1.973 1.987 1.969 1.977 2.    1.976]\n",
      " [2.992 2.902 3.055 3.066 3.024 2.916 3.031 2.897 3.018 2.998]\n",
      " [3.891 4.124 4.143 3.963 3.98  3.94  3.928 4.061 3.985 3.993]] [[0.993216 0.9431   1.079676 0.959319 0.984271 0.966831 0.898039 0.964471\n",
      "  0.944    0.975424]\n",
      " [1.967936 1.828396 2.053975 2.077644 1.967424 2.062944 2.022039 1.996391\n",
      "  1.969676 1.973996]\n",
      " [2.849119 3.194624 2.956551 3.071631 3.2116   3.0044   2.996816 3.167279\n",
      "  2.974775 3.004951]]\n",
      "Mean and variance endomwnets:\n",
      "[[2.017 2.012 2.067 2.012 1.981 1.968 1.999 2.024 2.001 1.968]\n",
      " [3.08  3.056 3.085 3.027 3.048 2.998 3.042 3.045 2.957 3.025]\n",
      " [4.045 3.95  3.947 4.002 4.001 3.95  3.964 4.011 3.956 4.087]] [[1.028711 1.101856 1.040511 1.039856 0.930639 0.920976 1.070999 0.973424\n",
      "  0.968999 0.972976]\n",
      " [1.9896   2.096864 2.007775 1.918271 2.001696 1.933996 2.010236 2.064975\n",
      "  2.175151 1.956375]\n",
      " [3.042975 2.9795   2.814191 3.095996 2.960999 2.8295   3.090704 3.008879\n",
      "  2.962064 3.097431]]\n",
      "Mean and variance endomwnets:\n",
      "[[2.024 1.969 1.964 2.042 1.986 2.    2.051 1.986 1.998 1.96 ]\n",
      " [2.982 2.996 2.984 2.989 3.059 3.023 2.972 2.993 2.965 2.993]\n",
      " [4.071 4.008 3.956 4.017 4.022 3.966 3.996 4.    3.97  4.074]] [[1.061424 0.950039 0.954704 1.016236 1.005804 0.984    1.046399 0.931804\n",
      "  1.071996 0.9664  ]\n",
      " [2.011676 2.111984 2.071744 1.882879 2.151519 1.902471 1.997216 2.052951\n",
      "  2.213775 1.998951]\n",
      " [3.197959 3.031936 3.098064 3.080711 2.973516 2.976844 2.803984 2.78\n",
      "  3.1931   3.230524]]\n"
     ]
    }
   ],
   "source": [
    "agents = { # 'SB PPO': PPO(MlpPolicy, mon_env, gamma=1, verbose=0, n_steps=epLen),\n",
    "#  'Random': or_suite.agents.rl.random.randomAgent(),\n",
    "#  'Equal': or_suite.agents.resource_allocation.equal_allocation.equalAllocationAgent(epLen, CONFIG),\n",
    " 'FixedThreshold': or_suite.agents.resource_allocation.fixed_threshold.fixedThresholdAgent(epLen, CONFIG),\n",
    " 'Guardrail-0.5': or_suite.agents.resource_allocation.hope_guardrail.hopeguardrailAgent(epLen, CONFIG, 0.5),\n",
    " 'Guardrail-0.3': or_suite.agents.resource_allocation.hope_guardrail.hopeguardrailAgent(epLen, CONFIG, 0.3),\n",
    "'Guardrail-0.25': or_suite.agents.resource_allocation.hope_guardrail.hopeguardrailAgent(epLen, CONFIG, 0.25)\n",
    "}"
   ]
  },
  {
   "cell_type": "markdown",
   "id": "optional-dublin",
   "metadata": {},
   "source": [
    "# Step 5: Run Simulations\n",
    "\n",
    "Run the different heuristics in the environment"
   ]
  },
  {
   "cell_type": "code",
   "execution_count": 4,
   "id": "78e2e1b9",
   "metadata": {},
   "outputs": [],
   "source": [
    "import warnings\n",
    "warnings.simplefilter('ignore')"
   ]
  },
  {
   "cell_type": "code",
   "execution_count": 5,
   "id": "c1a07ba9",
   "metadata": {
    "scrolled": true
   },
   "outputs": [
    {
     "name": "stdout",
     "output_type": "stream",
     "text": [
      "FixedThreshold\n",
      "Lower Solutions:\n",
      "[[0.      0.15789]\n",
      " [0.      0.15789]\n",
      " [0.19738 0.     ]]\n",
      "Out of Budget!\n",
      "Writing to file data.csv\n",
      "Guardrail-0.5\n",
      "Lower and Upper Solutions:\n",
      "[[0.      0.15856]\n",
      " [0.      0.15856]\n",
      " [0.19658 0.     ]]\n",
      "[[0.      0.23189]\n",
      " [0.      0.23189]\n",
      " [0.28749 0.     ]]\n",
      "Out of Budget!\n",
      "Writing to file data.csv\n",
      "Guardrail-0.3\n",
      "Lower and Upper Solutions:\n",
      "[[ 0.       0.15717]\n",
      " [-0.       0.15717]\n",
      " [ 0.19835  0.     ]]\n",
      "[[0.      0.31508]\n",
      " [0.      0.31508]\n",
      " [0.39764 0.     ]]\n",
      "Out of Budget!\n",
      "Writing to file data.csv\n",
      "Guardrail-0.25\n",
      "Lower and Upper Solutions:\n",
      "[[0.      0.15772]\n",
      " [0.      0.15772]\n",
      " [0.19683 0.     ]]\n",
      "[[0.      0.36038]\n",
      " [0.      0.36038]\n",
      " [0.44975 0.     ]]\n",
      "Out of Budget!\n",
      "Writing to file data.csv\n",
      "traj len 1000\n",
      "times out of budget 1\n",
      "num_iter 100\n",
      "traj len 1000\n",
      "times out of budget 1\n",
      "num_iter 100\n",
      "traj len 1000\n",
      "times out of budget 1\n",
      "num_iter 100\n",
      "traj len 1000\n",
      "times out of budget 1\n",
      "num_iter 100\n",
      "        Algorithm  Reward      Time     Space  Efficiency  Hindsight Envy  \\\n",
      "0  FixedThreshold    -inf  5.366421 -14863.04 -430.690172     -123.373567   \n",
      "1   Guardrail-0.5    -inf  5.169615 -12670.72 -204.043408     -188.032426   \n",
      "2   Guardrail-0.3    -inf  5.171399 -12581.33 -205.625389     -253.474352   \n",
      "3  Guardrail-0.25    -inf  5.163817 -12548.71 -214.990662     -280.301819   \n",
      "\n",
      "   Counterfactual Envy  Budget  \n",
      "0           -41.249270    0.01  \n",
      "1           -46.454390    0.01  \n",
      "2           -92.823386    0.01  \n",
      "3          -121.511731    0.01  \n"
     ]
    }
   ],
   "source": [
    "path_list_line = []\n",
    "algo_list_line = []\n",
    "path_list_radar = []\n",
    "algo_list_radar= []\n",
    "for agent in agents:\n",
    "    print(agent)\n",
    "    DEFAULT_SETTINGS['dirPath'] = '../data/resource_'+str(agent)+'/'\n",
    "    if agent == 'SB PPO':\n",
    "        or_suite.utils.run_single_sb_algo(mon_env, agents[agent], DEFAULT_SETTINGS)\n",
    "    elif agent == 'AdaQL' or agent == 'Unif QL' or agent == 'AdaMB' or agent == 'Unif MB':\n",
    "        or_suite.utils.run_single_algo_tune(resource_env, agents[agent], scaling_list, DEFAULT_SETTINGS)\n",
    "    else:\n",
    "        or_suite.utils.run_single_algo(resource_env, agents[agent], DEFAULT_SETTINGS)\n",
    "\n",
    "    path_list_line.append('../data/resource_'+str(agent))\n",
    "    algo_list_line.append(str(agent))\n",
    "    if agent != 'SB PPO':\n",
    "        path_list_radar.append('../data/resource_'+str(agent)+'/')\n",
    "        algo_list_radar.append(str(agent))     \n",
    "        \n",
    "fig_path = '../figures/'\n",
    "fig_name = 'resource'+'_line_plot'+'.pdf'\n",
    "or_suite.plots.plot_line_plots(path_list_line, algo_list_line, fig_path, fig_name, int(nEps / 40)+1)        \n",
    "        \n",
    "additional_metric = {'Efficiency': lambda traj : or_suite.utils.delta_EFFICIENCY(traj, CONFIG), \\\n",
    "                      'Hindsight Envy': lambda traj : or_suite.utils.delta_HINDSIGHT_ENVY(traj, CONFIG), \\\n",
    "                      'Counterfactual Envy': lambda traj : or_suite.utils.delta_COUNTERFACTUAL_ENVY(traj, CONFIG), \\\n",
    "                      'Budget' : lambda traj : or_suite.utils.times_out_of_budget(traj, CONFIG)}\n",
    "#                       'Prop': lambda traj : or_suite.utils.delta_PROP(traj, CONFIG), \\\n",
    "#                       'Exante Envy': lambda traj : or_suite.utils.delta_EXANTE_ENVY(traj, CONFIG)}\n",
    "fig_name = 'resource'+'_radar_plot'+'.pdf'\n",
    "or_suite.plots.plot_radar_plots(path_list_radar, algo_list_radar,\n",
    "fig_path, fig_name,\n",
    "additional_metric\n",
    ")"
   ]
  },
  {
   "cell_type": "code",
   "execution_count": 6,
   "id": "96273425",
   "metadata": {
    "scrolled": true
   },
   "outputs": [
    {
     "data": {
      "text/html": [
       "\n",
       "        <iframe\n",
       "            width=\"600\"\n",
       "            height=\"280\"\n",
       "            src=\"../figures/resource_line_plot.pdf\"\n",
       "            frameborder=\"0\"\n",
       "            allowfullscreen\n",
       "            \n",
       "        ></iframe>\n",
       "        "
      ],
      "text/plain": [
       "<IPython.lib.display.IFrame at 0x7fafe0b3dbe0>"
      ]
     },
     "execution_count": 6,
     "metadata": {},
     "output_type": "execute_result"
    }
   ],
   "source": [
    "from IPython.display import IFrame\n",
    "IFrame(\"../figures/resource_line_plot.pdf\", width=600, height=280)"
   ]
  },
  {
   "cell_type": "code",
   "execution_count": 7,
   "id": "0c08c369",
   "metadata": {},
   "outputs": [
    {
     "data": {
      "text/html": [
       "\n",
       "        <iframe\n",
       "            width=\"600\"\n",
       "            height=\"500\"\n",
       "            src=\"../figures/resource_radar_plot.pdf\"\n",
       "            frameborder=\"0\"\n",
       "            allowfullscreen\n",
       "            \n",
       "        ></iframe>\n",
       "        "
      ],
      "text/plain": [
       "<IPython.lib.display.IFrame at 0x7faff71b77f0>"
      ]
     },
     "execution_count": 7,
     "metadata": {},
     "output_type": "execute_result"
    }
   ],
   "source": [
    "IFrame(\"../figures/resource_radar_plot.pdf\", width=600, height=500)"
   ]
  }
 ],
 "metadata": {
  "kernelspec": {
   "display_name": "Python 3 (ipykernel)",
   "language": "python",
   "name": "python3"
  },
  "language_info": {
   "codemirror_mode": {
    "name": "ipython",
    "version": 3
   },
   "file_extension": ".py",
   "mimetype": "text/x-python",
   "name": "python",
   "nbconvert_exporter": "python",
   "pygments_lexer": "ipython3",
   "version": "3.8.5"
  }
 },
 "nbformat": 4,
 "nbformat_minor": 5
}
