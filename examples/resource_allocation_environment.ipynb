{
 "cells": [
  {
   "cell_type": "markdown",
   "id": "experienced-income",
   "metadata": {},
   "source": [
    "# Resource Allocation Code Demo\n",
    "\n",
    "The Food Bank of the Southern Tier (FBST) is a member of Feeding America, focused on providing food security for people with limited financial resources, and serves six counties and nearly 4,000 square miles in the New York.  Under normal operations (non COVID times), the Mobile Food Pantry program is among the main activities of the FBST.  The goal of the service is to make nutritious and healthy food more accessible to people in underserved communities.  Even in areas where other agencies provide assistance, clients may not always have access to food due to limited public transportation options, or because those agencies are only open hours or days per work.\n",
    "\n",
    "Here we do a sample experiment testing out some of the existing and developed algorithms against a randomized heuristic."
   ]
  },
  {
   "cell_type": "code",
   "execution_count": 1,
   "id": "54262089",
   "metadata": {
    "scrolled": true
   },
   "outputs": [],
   "source": [
    "import or_suite\n",
    "import numpy as np\n",
    "\n",
    "import copy\n",
    "\n",
    "import os\n",
    "from stable_baselines3.common.monitor import Monitor\n",
    "from stable_baselines3 import PPO\n",
    "from stable_baselines3.ppo import MlpPolicy\n",
    "from stable_baselines3.common.env_util import make_vec_env\n",
    "from stable_baselines3.common.evaluation import evaluate_policy\n",
    "import pandas as pd\n",
    "\n",
    "\n",
    "import gym"
   ]
  },
  {
   "cell_type": "code",
   "execution_count": 2,
   "id": "exclusive-roots",
   "metadata": {
    "scrolled": true
   },
   "outputs": [],
   "source": [
    "# Getting out configuration parameter for the environment\n",
    "CONFIG =  or_suite.envs.env_configs.resource_allocation_default_config\n",
    "\n",
    "\n",
    "# Specifying training iteration, epLen, number of episodes, and number of iterations\n",
    "epLen = CONFIG['num_rounds']\n",
    "nEps = 1\n",
    "numIters = 500\n",
    "\n",
    "# Configuration parameters for running the experiment\n",
    "DEFAULT_SETTINGS = {'seed': 1, \n",
    "                    'recFreq': 1, \n",
    "                    'dirPath': '../data/resource/', \n",
    "                    'deBug': False, \n",
    "                    'nEps': nEps, \n",
    "                    'numIters': numIters, \n",
    "                    'saveTrajectory': True, # save trajectory for calculating additional metrics\n",
    "                    'epLen' : epLen,\n",
    "                    'render': False,\n",
    "                    'pickle': False # indicator for pickling final information\n",
    "                    }\n",
    "\n",
    "resource_env = gym.make('Resource-v0', config=CONFIG)\n",
    "mon_env = Monitor(resource_env)\n"
   ]
  },
  {
   "cell_type": "code",
   "execution_count": 13,
   "id": "comprehensive-amplifier",
   "metadata": {
    "scrolled": true
   },
   "outputs": [
    {
     "name": "stdout",
     "output_type": "stream",
     "text": [
      "Mean and variance endomwnets:\n",
      "[[1.971 1.972 1.975 2.03  1.99  2.026 2.023 1.994 1.958 1.986]\n",
      " [2.97  2.915 3.12  2.965 3.012 3.047 3.011 2.98  2.971 3.069]\n",
      " [3.891 3.974 4.069 3.891 3.986 3.962 3.977 3.962 4.037 3.955]] [[0.942159 0.989216 0.912375 0.9651   0.9799   0.985324 0.982471 1.035964\n",
      "  0.926236 1.013804]\n",
      " [1.9611   1.977775 2.1476   1.907775 1.939856 2.042791 1.950879 1.9056\n",
      "  2.000159 2.098239]\n",
      " [2.763119 2.673324 3.078239 2.905119 3.045804 3.018556 3.062471 3.072556\n",
      "  3.223631 2.924975]]\n",
      "Mean and variance endomwnets:\n",
      "[[2.001 2.    1.986 1.999 2.047 2.007 1.99  1.948 1.978 2.03 ]\n",
      " [2.975 2.934 2.968 3.07  3.037 3.104 2.996 2.964 2.996 2.996]\n",
      " [4.044 3.952 4.053 3.924 4.061 4.05  3.96  3.951 3.986 4.076]] [[1.020999 1.006    0.901804 1.034999 0.940791 1.056951 0.8879   0.879296\n",
      "  0.979516 1.0151  ]\n",
      " [1.984375 2.109644 1.934976 2.0351   1.859631 2.195184 1.801984 2.142704\n",
      "  1.929984 1.927984]\n",
      " [3.120064 2.773696 3.104191 2.828224 3.153279 3.0895   2.8504   2.922599\n",
      "  3.065804 3.260224]]\n",
      "Mean and variance endomwnets:\n",
      "[[1.984 1.991 2.011 1.999 2.003 2.003 2.027 1.977 2.095 1.986]\n",
      " [3.031 3.009 3.041 2.926 3.039 3.043 3.042 2.961 2.967 2.942]\n",
      " [3.914 4.072 4.089 4.006 4.003 3.998 4.022 4.072 4.02  4.039]] [[0.967744 1.032919 1.080879 0.948999 0.994991 0.972991 1.000271 0.996471\n",
      "  1.067975 1.001804]\n",
      " [1.954039 2.074919 1.907319 1.972524 1.919479 2.113151 2.026236 1.947479\n",
      "  1.895911 1.832636]\n",
      " [2.866604 3.214816 3.171079 2.963964 2.972991 2.951996 3.247516 2.844816\n",
      "  2.9776   3.071479]]\n"
     ]
    }
   ],
   "source": [
    "agents = { # 'SB PPO': PPO(MlpPolicy, mon_env, gamma=1, verbose=0, n_steps=epLen),\n",
    "# 'Random': or_suite.agents.rl.random.randomAgent(),\n",
    "# 'Equal': or_suite.agents.resource_allocation.equal_allocation.equalAllocationAgent(epLen, CONFIG)\n",
    "'FixedThreshold': or_suite.agents.resource_allocation.fixed_threshold.fixedThresholdAgent(epLen, CONFIG),\n",
    "'Guardrail-0.5': or_suite.agents.resource_allocation.hope_guardrail.hopeguardrailAgent(epLen, CONFIG, 0.5),\n",
    "'Guardrail-0.3': or_suite.agents.resource_allocation.hope_guardrail.hopeguardrailAgent(epLen, CONFIG, 0.3),\n",
    "'Guardrail-0.25': or_suite.agents.resource_allocation.hope_guardrail.hopeguardrailAgent(epLen, CONFIG, 0.25)\n",
    "}"
   ]
  },
  {
   "cell_type": "markdown",
   "id": "optional-dublin",
   "metadata": {},
   "source": [
    "# Step 5: Run Simulations\n",
    "\n",
    "Run the different heuristics in the environment"
   ]
  },
  {
   "cell_type": "code",
   "execution_count": 14,
   "id": "78e2e1b9",
   "metadata": {},
   "outputs": [],
   "source": [
    "import warnings\n",
    "warnings.simplefilter('ignore')"
   ]
  },
  {
   "cell_type": "code",
   "execution_count": 15,
   "id": "c1a07ba9",
   "metadata": {
    "scrolled": true
   },
   "outputs": [
    {
     "name": "stdout",
     "output_type": "stream",
     "text": [
      "FixedThreshold\n",
      "Lower Solutions:\n",
      "[[0.      0.08651]\n",
      " [0.      0.08651]\n",
      " [0.10607 0.     ]]\n",
      "Writing to file data.csv\n",
      "Guardrail-0.5\n",
      "Lower and Upper Solutions:\n",
      "[[0.      0.08684]\n",
      " [0.      0.08684]\n",
      " [0.10698 0.     ]]\n",
      "[[0.      0.12701]\n",
      " [0.      0.12701]\n",
      " [0.15645 0.     ]]\n",
      "Writing to file data.csv\n",
      "Guardrail-0.3\n",
      "Lower and Upper Solutions:\n",
      "[[0.      0.08658]\n",
      " [0.      0.08658]\n",
      " [0.10613 0.     ]]\n",
      "[[0.      0.17357]\n",
      " [0.      0.17357]\n",
      " [0.21277 0.     ]]\n",
      "Writing to file data.csv\n",
      "Guardrail-0.25\n",
      "Lower and Upper Solutions:\n",
      "[[0.      0.08693]\n",
      " [0.      0.08693]\n",
      " [0.10577 0.     ]]\n",
      "[[0.      0.19862]\n",
      " [0.      0.19862]\n",
      " [0.24168 0.     ]]\n",
      "Writing to file data.csv\n",
      "        Algorithm     Reward      Time      Space    Efficiency  \\\n",
      "0  FixedThreshold -14.635384  5.413936 -12498.342 -11571.418670   \n",
      "1   Guardrail-0.5 -10.774767  5.219331 -12290.717  -7596.929250   \n",
      "2   Guardrail-0.3  -7.809539  5.217422 -12280.866  -3293.347751   \n",
      "3  Guardrail-0.25  -7.200009  5.222994 -12279.810  -1991.251960   \n",
      "\n",
      "   Hindsight Envy  Counterfactual Envy  \n",
      "0     -672.520000         -1075.129920  \n",
      "1     -986.640000          -710.629920  \n",
      "2    -1367.397861          -377.226786  \n",
      "3    -1632.506040          -596.073250  \n"
     ]
    }
   ],
   "source": [
    "path_list_line = []\n",
    "algo_list_line = []\n",
    "path_list_radar = []\n",
    "algo_list_radar= []\n",
    "for agent in agents:\n",
    "    print(agent)\n",
    "    DEFAULT_SETTINGS['dirPath'] = '../data/resource_'+str(agent)+'/'\n",
    "    if agent == 'SB PPO':\n",
    "        or_suite.utils.run_single_sb_algo(mon_env, agents[agent], DEFAULT_SETTINGS)\n",
    "    elif agent == 'AdaQL' or agent == 'Unif QL' or agent == 'AdaMB' or agent == 'Unif MB':\n",
    "        or_suite.utils.run_single_algo_tune(resource_env, agents[agent], scaling_list, DEFAULT_SETTINGS)\n",
    "    else:\n",
    "        or_suite.utils.run_single_algo(resource_env, agents[agent], DEFAULT_SETTINGS)\n",
    "\n",
    "    path_list_line.append('../data/resource_'+str(agent))\n",
    "    algo_list_line.append(str(agent))\n",
    "    if agent != 'SB PPO':\n",
    "        path_list_radar.append('../data/resource_'+str(agent)+'/')\n",
    "        algo_list_radar.append(str(agent))     \n",
    "        \n",
    "fig_path = '../figures/'\n",
    "fig_name = 'resource'+'_line_plot'+'.pdf'\n",
    "or_suite.plots.plot_line_plots(path_list_line, algo_list_line, fig_path, fig_name, int(nEps / 40)+1)        \n",
    "        \n",
    "additional_metric = {'Efficiency': lambda traj : or_suite.utils.delta_EFFICIENCY(traj, CONFIG), \\\n",
    "                      'Hindsight Envy': lambda traj : or_suite.utils.delta_HINDSIGHT_ENVY(traj, CONFIG), \\\n",
    "                      'Counterfactual Envy': lambda traj : or_suite.utils.delta_COUNTERFACTUAL_ENVY(traj, CONFIG)}\n",
    "#                       'Prop': lambda traj : or_suite.utils.delta_PROP(traj, CONFIG), \\\n",
    "#                       'Exante Envy': lambda traj : or_suite.utils.delta_EXANTE_ENVY(traj, CONFIG)}\n",
    "fig_name = 'resource'+'_radar_plot'+'.pdf'\n",
    "or_suite.plots.plot_radar_plots(path_list_radar, algo_list_radar,\n",
    "fig_path, fig_name,\n",
    "additional_metric\n",
    ")"
   ]
  },
  {
   "cell_type": "code",
   "execution_count": 16,
   "id": "96273425",
   "metadata": {
    "scrolled": false
   },
   "outputs": [
    {
     "data": {
      "text/html": [
       "\n",
       "        <iframe\n",
       "            width=\"600\"\n",
       "            height=\"280\"\n",
       "            src=\"../figures/resource_line_plot.pdf\"\n",
       "            frameborder=\"0\"\n",
       "            allowfullscreen\n",
       "            \n",
       "        ></iframe>\n",
       "        "
      ],
      "text/plain": [
       "<IPython.lib.display.IFrame at 0x7f9293961a00>"
      ]
     },
     "execution_count": 16,
     "metadata": {},
     "output_type": "execute_result"
    }
   ],
   "source": [
    "from IPython.display import IFrame\n",
    "IFrame(\"../figures/resource_line_plot.pdf\", width=600, height=280)"
   ]
  },
  {
   "cell_type": "code",
   "execution_count": 17,
   "id": "0c08c369",
   "metadata": {},
   "outputs": [
    {
     "data": {
      "text/html": [
       "\n",
       "        <iframe\n",
       "            width=\"600\"\n",
       "            height=\"500\"\n",
       "            src=\"../figures/resource_radar_plot.pdf\"\n",
       "            frameborder=\"0\"\n",
       "            allowfullscreen\n",
       "            \n",
       "        ></iframe>\n",
       "        "
      ],
      "text/plain": [
       "<IPython.lib.display.IFrame at 0x7f92b080a760>"
      ]
     },
     "execution_count": 17,
     "metadata": {},
     "output_type": "execute_result"
    }
   ],
   "source": [
    "IFrame(\"../figures/resource_radar_plot.pdf\", width=600, height=500)"
   ]
  }
 ],
 "metadata": {
  "kernelspec": {
   "display_name": "Python 3 (ipykernel)",
   "language": "python",
   "name": "python3"
  },
  "language_info": {
   "codemirror_mode": {
    "name": "ipython",
    "version": 3
   },
   "file_extension": ".py",
   "mimetype": "text/x-python",
   "name": "python",
   "nbconvert_exporter": "python",
   "pygments_lexer": "ipython3",
   "version": "3.8.5"
  }
 },
 "nbformat": 4,
 "nbformat_minor": 5
}
